{
 "cells": [
  {
   "cell_type": "code",
   "execution_count": 338,
   "metadata": {},
   "outputs": [
    {
     "data": {
      "text/html": [
       "<div>\n",
       "<style scoped>\n",
       "    .dataframe tbody tr th:only-of-type {\n",
       "        vertical-align: middle;\n",
       "    }\n",
       "\n",
       "    .dataframe tbody tr th {\n",
       "        vertical-align: top;\n",
       "    }\n",
       "\n",
       "    .dataframe thead th {\n",
       "        text-align: right;\n",
       "    }\n",
       "</style>\n",
       "<table border=\"1\" class=\"dataframe\">\n",
       "  <thead>\n",
       "    <tr style=\"text-align: right;\">\n",
       "      <th></th>\n",
       "      <th>Status</th>\n",
       "      <th>Entry Date</th>\n",
       "      <th>Symbol</th>\n",
       "      <th>Shares</th>\n",
       "      <th>Entry Price</th>\n",
       "      <th>Exit Date</th>\n",
       "      <th>Exit Price</th>\n",
       "      <th>Return $</th>\n",
       "      <th>Return %</th>\n",
       "      <th>Strategy</th>\n",
       "    </tr>\n",
       "  </thead>\n",
       "  <tbody>\n",
       "    <tr>\n",
       "      <th>0</th>\n",
       "      <td>Open</td>\n",
       "      <td>2022-06-24</td>\n",
       "      <td>SPY</td>\n",
       "      <td>10.0</td>\n",
       "      <td>315</td>\n",
       "      <td>NaT</td>\n",
       "      <td>NaN</td>\n",
       "      <td>NaN</td>\n",
       "      <td>NaN</td>\n",
       "      <td>NaN</td>\n",
       "    </tr>\n",
       "    <tr>\n",
       "      <th>1</th>\n",
       "      <td>Open</td>\n",
       "      <td>2022-05-24</td>\n",
       "      <td>HDSN</td>\n",
       "      <td>200.0</td>\n",
       "      <td>7</td>\n",
       "      <td>NaT</td>\n",
       "      <td>NaN</td>\n",
       "      <td>NaN</td>\n",
       "      <td>NaN</td>\n",
       "      <td>NaN</td>\n",
       "    </tr>\n",
       "    <tr>\n",
       "      <th>2</th>\n",
       "      <td>Open</td>\n",
       "      <td>2022-06-20</td>\n",
       "      <td>IPI</td>\n",
       "      <td>200.0</td>\n",
       "      <td>54</td>\n",
       "      <td>NaT</td>\n",
       "      <td>NaN</td>\n",
       "      <td>NaN</td>\n",
       "      <td>NaN</td>\n",
       "      <td>NaN</td>\n",
       "    </tr>\n",
       "    <tr>\n",
       "      <th>3</th>\n",
       "      <td>Loss</td>\n",
       "      <td>2022-05-20</td>\n",
       "      <td>CPT</td>\n",
       "      <td>300.0</td>\n",
       "      <td>175</td>\n",
       "      <td>2022-06-16</td>\n",
       "      <td>150.0</td>\n",
       "      <td>NaN</td>\n",
       "      <td>NaN</td>\n",
       "      <td>NaN</td>\n",
       "    </tr>\n",
       "    <tr>\n",
       "      <th>4</th>\n",
       "      <td>Loss</td>\n",
       "      <td>2022-05-20</td>\n",
       "      <td>WSC</td>\n",
       "      <td>1000.0</td>\n",
       "      <td>41</td>\n",
       "      <td>2022-06-17</td>\n",
       "      <td>38.0</td>\n",
       "      <td>NaN</td>\n",
       "      <td>NaN</td>\n",
       "      <td>NaN</td>\n",
       "    </tr>\n",
       "    <tr>\n",
       "      <th>5</th>\n",
       "      <td>Win</td>\n",
       "      <td>2022-06-02</td>\n",
       "      <td>HCAT</td>\n",
       "      <td>-90.0</td>\n",
       "      <td>20</td>\n",
       "      <td>2022-06-15</td>\n",
       "      <td>12.0</td>\n",
       "      <td>NaN</td>\n",
       "      <td>NaN</td>\n",
       "      <td>NaN</td>\n",
       "    </tr>\n",
       "    <tr>\n",
       "      <th>6</th>\n",
       "      <td>Win</td>\n",
       "      <td>2022-06-10</td>\n",
       "      <td>Zyme</td>\n",
       "      <td>-10.0</td>\n",
       "      <td>9</td>\n",
       "      <td>2022-06-20</td>\n",
       "      <td>5.0</td>\n",
       "      <td>NaN</td>\n",
       "      <td>NaN</td>\n",
       "      <td>NaN</td>\n",
       "    </tr>\n",
       "    <tr>\n",
       "      <th>7</th>\n",
       "      <td>Win</td>\n",
       "      <td>2022-04-08</td>\n",
       "      <td>ABC</td>\n",
       "      <td>100.0</td>\n",
       "      <td>9</td>\n",
       "      <td>2022-04-23</td>\n",
       "      <td>10.0</td>\n",
       "      <td>NaN</td>\n",
       "      <td>NaN</td>\n",
       "      <td>NaN</td>\n",
       "    </tr>\n",
       "    <tr>\n",
       "      <th>8</th>\n",
       "      <td>win</td>\n",
       "      <td>2022-03-08</td>\n",
       "      <td>AAPL</td>\n",
       "      <td>10.0</td>\n",
       "      <td>100</td>\n",
       "      <td>2022-03-20</td>\n",
       "      <td>101.0</td>\n",
       "      <td>NaN</td>\n",
       "      <td>NaN</td>\n",
       "      <td>NaN</td>\n",
       "    </tr>\n",
       "    <tr>\n",
       "      <th>9</th>\n",
       "      <td>Loss</td>\n",
       "      <td>2022-03-09</td>\n",
       "      <td>GOOGL</td>\n",
       "      <td>100.0</td>\n",
       "      <td>2000</td>\n",
       "      <td>2022-03-29</td>\n",
       "      <td>1900.0</td>\n",
       "      <td>NaN</td>\n",
       "      <td>NaN</td>\n",
       "      <td>NaN</td>\n",
       "    </tr>\n",
       "    <tr>\n",
       "      <th>10</th>\n",
       "      <td>Loss</td>\n",
       "      <td>2022-02-08</td>\n",
       "      <td>AMZN</td>\n",
       "      <td>100.0</td>\n",
       "      <td>3500</td>\n",
       "      <td>2022-02-20</td>\n",
       "      <td>3700.0</td>\n",
       "      <td>NaN</td>\n",
       "      <td>NaN</td>\n",
       "      <td>NaN</td>\n",
       "    </tr>\n",
       "    <tr>\n",
       "      <th>11</th>\n",
       "      <td>Win</td>\n",
       "      <td>2022-02-10</td>\n",
       "      <td>RIG</td>\n",
       "      <td>3.8</td>\n",
       "      <td>1000</td>\n",
       "      <td>2022-02-15</td>\n",
       "      <td>5.0</td>\n",
       "      <td>NaN</td>\n",
       "      <td>NaN</td>\n",
       "      <td>NaN</td>\n",
       "    </tr>\n",
       "  </tbody>\n",
       "</table>\n",
       "</div>"
      ],
      "text/plain": [
       "   Status Entry Date Symbol  Shares  Entry Price  Exit Date  Exit Price  \\\n",
       "0    Open 2022-06-24    SPY    10.0          315        NaT         NaN   \n",
       "1    Open 2022-05-24   HDSN   200.0            7        NaT         NaN   \n",
       "2    Open 2022-06-20    IPI   200.0           54        NaT         NaN   \n",
       "3    Loss 2022-05-20    CPT   300.0          175 2022-06-16       150.0   \n",
       "4    Loss 2022-05-20    WSC  1000.0           41 2022-06-17        38.0   \n",
       "5     Win 2022-06-02   HCAT   -90.0           20 2022-06-15        12.0   \n",
       "6     Win 2022-06-10   Zyme   -10.0            9 2022-06-20         5.0   \n",
       "7     Win 2022-04-08    ABC   100.0            9 2022-04-23        10.0   \n",
       "8    win  2022-03-08   AAPL    10.0          100 2022-03-20       101.0   \n",
       "9    Loss 2022-03-09  GOOGL   100.0         2000 2022-03-29      1900.0   \n",
       "10   Loss 2022-02-08   AMZN   100.0         3500 2022-02-20      3700.0   \n",
       "11    Win 2022-02-10    RIG     3.8         1000 2022-02-15         5.0   \n",
       "\n",
       "    Return $  Return %  Strategy  \n",
       "0        NaN       NaN       NaN  \n",
       "1        NaN       NaN       NaN  \n",
       "2        NaN       NaN       NaN  \n",
       "3        NaN       NaN       NaN  \n",
       "4        NaN       NaN       NaN  \n",
       "5        NaN       NaN       NaN  \n",
       "6        NaN       NaN       NaN  \n",
       "7        NaN       NaN       NaN  \n",
       "8        NaN       NaN       NaN  \n",
       "9        NaN       NaN       NaN  \n",
       "10       NaN       NaN       NaN  \n",
       "11       NaN       NaN       NaN  "
      ]
     },
     "execution_count": 338,
     "metadata": {},
     "output_type": "execute_result"
    }
   ],
   "source": [
    "import pandas as pd\n",
    "import yfinance as yf \n",
    "import datetime \n",
    "from dateutil import parser\n",
    "import plotly.graph_objects as go \n",
    "dff = pd.read_excel('fake_trades.xlsx')\n",
    "\n",
    "\n",
    "def pnl_over_months(df: pd.DataFrame) -> go.Figure:\n",
    "    df = df[df['Status'] != \"Open\"]\n",
    "    df['Return $'] = df['Shares'] *(df['Exit Price'] - df['Entry Price'])\n",
    "    df['Exit Date'] = df['Exit Date'].apply(lambda x: x.replace(day = 1))\n",
    "\n",
    "    wins = df[df['Return $'] >= 0 ].copy()\n",
    "    losses = df[df['Return $'] <0].copy()\n",
    "    wins = wins.groupby(by = \"Exit Date\").sum()\n",
    "    losses = losses.groupby(by = \"Exit Date\").sum()\n",
    "    fig = go.Figure(data=[\n",
    "    go.Bar(name='Wins',\n",
    "        x=wins.index.tolist(),\n",
    "        y=wins['Return $'].tolist(),\n",
    "        marker_color = \"#4CBB17\"),\n",
    "    go.Bar(name='Losses', \n",
    "        x=losses.index.tolist(), \n",
    "        y=losses['Return $'].tolist(),\n",
    "        marker_color = \"#FF5733 \"),\n",
    "])\n",
    "\n",
    "    # Change the bar mode\n",
    "    fig.update_layout(\n",
    "        title = {\n",
    "            \"text\": \"Wins vs Losses Over Time\",\n",
    "            \"x\": .5,\n",
    "            \"y\": .9,\n",
    "            \"xanchor\" : \"center\",\n",
    "            \"yanchor\": \"top\"\n",
    "        },\n",
    "        xaxis_title = \"Date\",\n",
    "        yaxis_title = \"PnL\",\n",
    "        barmode = \"relative\",\n",
    "        )\n",
    "    return fig\n",
    "dff"
   ]
  },
  {
   "cell_type": "code",
   "execution_count": 339,
   "metadata": {},
   "outputs": [],
   "source": [
    "df = dff.copy()\n",
    "\n"
   ]
  },
  {
   "cell_type": "code",
   "execution_count": 416,
   "metadata": {},
   "outputs": [],
   "source": [
    "df = df.sort_values(by = ['Exit Date'])"
   ]
  },
  {
   "cell_type": "code",
   "execution_count": 419,
   "metadata": {},
   "outputs": [
    {
     "data": {
      "text/plain": [
       "[-3781.0, 16219.0, 16229.0, 6229.0, 6329.0, 7049.0, -451.0, -3451.0, -3411.0]"
      ]
     },
     "execution_count": 419,
     "metadata": {},
     "output_type": "execute_result"
    }
   ],
   "source": [
    "df['Return $'].cumsum().tolist()"
   ]
  },
  {
   "cell_type": "code",
   "execution_count": 423,
   "metadata": {},
   "outputs": [],
   "source": [
    "df['pnl'] = df['Return $'].cumsum().tolist()"
   ]
  },
  {
   "cell_type": "code",
   "execution_count": 429,
   "metadata": {},
   "outputs": [],
   "source": [
    "df.reset_index(drop = True,inplace = True)"
   ]
  },
  {
   "cell_type": "code",
   "execution_count": 430,
   "metadata": {},
   "outputs": [
    {
     "data": {
      "text/plain": [
       "<AxesSubplot:>"
      ]
     },
     "execution_count": 430,
     "metadata": {},
     "output_type": "execute_result"
    },
    {
     "data": {
      "image/png": "[encoded data removed]",
      "text/plain": [
       "<Figure size 432x288 with 1 Axes>"
      ]
     },
     "metadata": {
      "needs_background": "light"
     },
     "output_type": "display_data"
    }
   ],
   "source": [
    "df['pnl'].plot()"
   ]
  },
  {
   "cell_type": "code",
   "execution_count": null,
   "metadata": {},
   "outputs": [],
   "source": []
  },
  {
   "cell_type": "code",
   "execution_count": null,
   "metadata": {},
   "outputs": [],
   "source": []
  },
  {
   "cell_type": "code",
   "execution_count": null,
   "metadata": {},
   "outputs": [],
   "source": []
  },
  {
   "cell_type": "code",
   "execution_count": null,
   "metadata": {},
   "outputs": [],
   "source": []
  },
  {
   "cell_type": "code",
   "execution_count": 332,
   "metadata": {},
   "outputs": [],
   "source": [
    "\n",
    "def pnl_over_time_chart(df):\n",
    "    df = df[df['Status'] != \"Open\"]\n",
    "    df['Return $'] = df['Shares'] *(df['Exit Price'] - df['Entry Price'])\n",
    "    df['Exit Date'] = df['Exit Date'].apply(lambda x: x.replace(day = 1))\n",
    "    df = df.groupby(by = 'Exit Date').sum()\n",
    "    wins = df[df['Return $'] >= 0 ].copy()\n",
    "    losses = df[df['Return $'] <0].copy()\n",
    "    wins = wins.groupby(by = \"Exit Date\").sum()\n",
    "    losses = losses.groupby(by = \"Exit Date\").sum()\n",
    "                \n",
    "    fig = go.Figure()\n",
    "    fig.add_trace(go.Bar(x=losses.index.tolist(), y=losses['Return $'].tolist(),\n",
    "                    base=0,\n",
    "                    marker_color='crimson',\n",
    "                    name='Losses'))\n",
    "    fig.add_trace(go.Bar(x=wins.index.tolist(), y=wins['Return $'].tolist(),\n",
    "                    base=0,\n",
    "                    marker_color='chartreuse',\n",
    "                    name='Profits'\n",
    "                    ))\n",
    "    return fig \n",
    "    "
   ]
  },
  {
   "cell_type": "code",
   "execution_count": null,
   "metadata": {},
   "outputs": [],
   "source": []
  },
  {
   "cell_type": "code",
   "execution_count": null,
   "metadata": {},
   "outputs": [],
   "source": []
  },
  {
   "cell_type": "code",
   "execution_count": null,
   "metadata": {},
   "outputs": [],
   "source": []
  },
  {
   "cell_type": "code",
   "execution_count": null,
   "metadata": {},
   "outputs": [],
   "source": []
  }
 ],
 "metadata": {
  "kernelspec": {
   "display_name": "Python 3.8.8 ('base')",
   "language": "python",
   "name": "python3"
  },
  "language_info": {
   "codemirror_mode": {
    "name": "ipython",
    "version": 3
   },
   "file_extension": ".py",
   "mimetype": "text/x-python",
   "name": "python",
   "nbconvert_exporter": "python",
   "pygments_lexer": "ipython3",
   "version": "3.8.8"
  },
  "orig_nbformat": 4,
  "vscode": {
   "interpreter": {
    "hash": "42322db88e3c2f02255451d64a951c0a78537fc6172e7daad3a10b518b5be8f3"
   }
  }
 },
 "nbformat": 4,
 "nbformat_minor": 2
}
